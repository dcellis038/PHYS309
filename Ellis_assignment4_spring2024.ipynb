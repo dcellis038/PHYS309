{
 "cells": [
  {
   "cell_type": "markdown",
   "id": "33885243",
   "metadata": {},
   "source": [
    "# Bohr models of ions\n",
    "\n",
    "The Bohr model works for atoms with only one electron. Adding electrons would require accounting for their mutual Coulomb forces, which would depend on the electrons' locations in their orbits. However, there are ions that have only one electron, for which a small modification to the Bohr model can predict their energy levels.\n",
    "\n",
    "Read the notebook <tt>Bohr_model_extensions.ipynb</tt>, which is on the class GitHub page. You will be using Equation 1 to compare the photon energy that correspond to energy level transitions in hydrogen, singly-ionized helium, and doubly-ionized lithium.\n",
    "\n",
    "Note: you are responsible for importing the packages you need and making sure your axis labels are large enough to be readable.\n",
    "\n",
    "<ol>\n",
    "    <li>Write a function that finds the photon <em>energy</em> in eV (calculate it from the wavelength predicted by the Rydberg equation) that moves an electron between levels $n$ and $n+1$. The independent variables of your function should be $Z$ (atomic number) and $n$. Do not hand-code any constants: use the pre-programmed values in <tt>scipy</tt>.</li>\n",
    "</ol>"
   ]
  },
  {
   "cell_type": "code",
   "execution_count": 1,
   "id": "d9969682",
   "metadata": {},
   "outputs": [],
   "source": [
    "import numpy as np\n",
    "from scipy import constants\n",
    "import matplotlib.pyplot as plt"
   ]
  },
  {
   "cell_type": "code",
   "execution_count": 2,
   "id": "9ba6bb11-822d-4e7f-9fb2-8312bffd5e1d",
   "metadata": {},
   "outputs": [],
   "source": [
    "def photon_energy(Z, n):\n",
    "    E = -constants.h*constants.c*constants.Rydberg*(1/(n**2)-1/((n+1)**2))*Z**2\n",
    "    return E * 6.242 * 10**18"
   ]
  },
  {
   "cell_type": "markdown",
   "id": "3eb29aa5",
   "metadata": {},
   "source": [
    "<ol start = 2>\n",
    "    <li>Use the python function of your choice to create an integer <em>array</em> (not list) of values $n = 1, 2, \\ldots, 10$. Do not simply hard-code in all the numbers by hand. Create a second array (not list) of atomic numbers $Z = 1, 2, 3$, again using a python function.</li>\n",
    "</ol>"
   ]
  },
  {
   "cell_type": "code",
   "execution_count": 3,
   "id": "105af0f4",
   "metadata": {},
   "outputs": [],
   "source": [
    "# Your code here\n",
    "\n",
    "n = np.arange(1, 11, 1)\n",
    "Z = np.arange(1, 4, 1)"
   ]
  },
  {
   "cell_type": "markdown",
   "id": "fdc267f4",
   "metadata": {},
   "source": [
    "<ol start=3>\n",
    "    <li>For each combination of $Z$ and $n$, calculate the energy of light required to move from level $n$ to $n+1$. Store the results in an array with 3 rows and 10 columns. You may find the meshgrid command helpful.</li>\n",
    "</ol>"
   ]
  },
  {
   "cell_type": "code",
   "execution_count": 4,
   "id": "fb38e7e0",
   "metadata": {},
   "outputs": [
    {
     "data": {
      "text/plain": [
       "array([[-1.02050725e+01, -1.88982823e+00, -6.61439882e-01],\n",
       "       [-4.08202898e+01, -7.55931293e+00, -2.64575953e+00],\n",
       "       [-9.18456521e+01, -1.70084541e+01, -5.95295893e+00],\n",
       "       [-1.63281159e+02, -3.02372517e+01, -1.05830381e+01],\n",
       "       [-2.55126811e+02, -4.72457058e+01, -1.65359970e+01],\n",
       "       [-3.67382609e+02, -6.80338164e+01, -2.38118357e+01],\n",
       "       [-5.00048550e+02, -9.26015834e+01, -3.24105542e+01],\n",
       "       [-6.53124637e+02, -1.20949007e+02, -4.23321524e+01],\n",
       "       [-8.26610869e+02, -1.53076087e+02, -5.35766304e+01],\n",
       "       [-1.02050725e+03, -1.88982823e+02, -6.61439882e+01]])"
      ]
     },
     "execution_count": 4,
     "metadata": {},
     "output_type": "execute_result"
    }
   ],
   "source": [
    "Zv, nv = np.meshgrid(Z, n)\n",
    "# Your code here\n",
    "\n",
    "photon_energy_array = np.zeros(shape=(10, 3))\n",
    "\n",
    "for i in range(0,10):\n",
    "    for j in range(0,3):\n",
    "        photon_energy_array[i, j] = photon_energy(i+1, j+1)\n",
    "\n",
    "photon_energy_array"
   ]
  },
  {
   "cell_type": "markdown",
   "id": "4ce0665f",
   "metadata": {},
   "source": [
    "<ol start=4>\n",
    "    <li>Now you are going to make a color-coded plot. With $n$ on the x-axis and $z$ on the y-axis, add a circle to your plot at each $(n,z)$ ordered pair with the color determined by the energy calculated in question 3. Make sure your plot has a colorbar to show the energy scale, and put units on the colorbar. x and y axes should also be labeled.</li>\n",
    "</ol>\n",
    "\n",
    "I am including an example plot showing arbitrary dependent variable $w$ on a color scale as a function of independent variables $u$ and $v$. None of these variables mean anything; this example is just to help you visualize what your plot should look like."
   ]
  },
  {
   "cell_type": "markdown",
   "id": "ecf1d35d",
   "metadata": {},
   "source": [
    "Code that might help you make your plot is in the cell below. You are free to do something else if you prefer."
   ]
  },
  {
   "cell_type": "code",
   "execution_count": 5,
   "id": "d4c9baa3",
   "metadata": {},
   "outputs": [
    {
     "data": {
      "image/png": "[encoded data removed]",
      "text/plain": [
       "<Figure size 432x432 with 2 Axes>"
      ]
     },
     "metadata": {
      "needs_background": "light"
     },
     "output_type": "display_data"
    }
   ],
   "source": [
    "from mpl_toolkits.axes_grid1 import make_axes_locatable\n",
    "\n",
    "fig, ax = plt.subplots(1, 1, figsize=(6,6))\n",
    "plot1 = ax.scatter(nv, Zv, c = photon_energy_array) # Look up how to make a color-coded scatter plot\n",
    "ax.set_aspect('equal')\n",
    "\n",
    "# Create a colorbar axis on the right side of ax. The width of cax will be 8%\n",
    "# of ax and the padding between cax and ax will be fixed at 0.1 inch.\n",
    "divider = make_axes_locatable(ax)\n",
    "cax = divider.append_axes(\"right\", size=\"8%\", pad=0.1)\n",
    "cbar = plt.colorbar(plot1, cax=cax)\n",
    "cbar.ax.tick_params(labelsize=12) \n",
    "cbar.set_label('...')"
   ]
  },
  {
   "cell_type": "code",
   "execution_count": null,
   "id": "b26e210f-33e7-45ed-ac37-44b0a7514504",
   "metadata": {},
   "outputs": [],
   "source": []
  }
 ],
 "metadata": {
  "kernelspec": {
   "display_name": "Python 3 (ipykernel)",
   "language": "python",
   "name": "python3"
  },
  "language_info": {
   "codemirror_mode": {
    "name": "ipython",
    "version": 3
   },
   "file_extension": ".py",
   "mimetype": "text/x-python",
   "name": "python",
   "nbconvert_exporter": "python",
   "pygments_lexer": "ipython3",
   "version": "3.9.12"
  }
 },
 "nbformat": 4,
 "nbformat_minor": 5
}
